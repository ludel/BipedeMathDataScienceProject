{
 "cells": [
  {
   "cell_type": "code",
   "execution_count": 3,
   "outputs": [],
   "source": [
    "import pandas as pd\n",
    "import seaborn as sns\n",
    "import numpy as np"
   ],
   "metadata": {
    "collapsed": false,
    "pycharm": {
     "name": "#%%\n"
    }
   }
  },
  {
   "cell_type": "code",
   "execution_count": 4,
   "outputs": [],
   "source": [
    "df_orders = pd.read_csv(\"../data/olist_orders_dataset.csv\")\n",
    "df_orders_item = pd.read_csv(\"../data/olist_order_items_dataset.csv\")\n",
    "df_product = pd.read_csv(\"../data/olist_products_dataset.csv\")"
   ],
   "metadata": {
    "collapsed": false,
    "pycharm": {
     "name": "#%%\n"
    }
   }
  },
  {
   "cell_type": "code",
   "execution_count": 5,
   "outputs": [],
   "source": [
    "df = pd.merge(df_orders, df_orders_item, on='order_id')\n",
    "\n",
    "df_group = df.groupby('customer_id')"
   ],
   "metadata": {
    "collapsed": false,
    "pycharm": {
     "name": "#%%\n"
    }
   }
  },
  {
   "cell_type": "code",
   "execution_count": 6,
   "outputs": [
    {
     "data": {
      "text/plain": "1.1417306873695092"
     },
     "execution_count": 6,
     "metadata": {},
     "output_type": "execute_result"
    }
   ],
   "source": [
    "# Nombre de produit moyen par commande\n",
    "df_group['product_id'].count().mean()"
   ],
   "metadata": {
    "collapsed": false,
    "pycharm": {
     "name": "#%%\n"
    }
   }
  },
  {
   "cell_type": "code",
   "execution_count": 7,
   "outputs": [
    {
     "name": "stdout",
     "output_type": "stream",
     "text": [
      "Mean 1.1417306873695092\n",
      "Median 1.0\n",
      "Min 1\n",
      "Max 21\n"
     ]
    }
   ],
   "source": [
    "df_group_item = df_orders_item.groupby('order_id')\n",
    "print('Mean', df_group_item['product_id'].count().mean())\n",
    "print('Median', df_group_item['product_id'].count().median())\n",
    "print('Min', df_group_item['product_id'].count().min())\n",
    "print('Max', df_group_item['product_id'].count().max())"
   ],
   "metadata": {
    "collapsed": false,
    "pycharm": {
     "name": "#%%\n"
    }
   }
  },
  {
   "cell_type": "code",
   "execution_count": 8,
   "outputs": [
    {
     "data": {
      "text/plain": "<matplotlib.axes._subplots.AxesSubplot at 0x7efded8c1c88>"
     },
     "execution_count": 8,
     "metadata": {},
     "output_type": "execute_result"
    },
    {
     "data": {
      "text/plain": "<Figure size 1080x360 with 1 Axes>",
      "image/png": "[encoded data removed]"
     },
     "metadata": {
      "needs_background": "light"
     },
     "output_type": "display_data"
    }
   ],
   "source": [
    "df_group_item['product_id'].count().plot(kind='hist', figsize=(15,5))"
   ],
   "metadata": {
    "collapsed": false,
    "pycharm": {
     "name": "#%%\n"
    }
   }
  },
  {
   "cell_type": "code",
   "execution_count": 9,
   "outputs": [
    {
     "data": {
      "text/plain": "Empty DataFrame\nColumns: [order_id, customer_id, order_status, order_purchase_timestamp, order_approved_at, order_delivered_carrier_date, order_delivered_customer_date, order_estimated_delivery_date]\nIndex: []",
      "text/html": "<div>\n<style scoped>\n    .dataframe tbody tr th:only-of-type {\n        vertical-align: middle;\n    }\n\n    .dataframe tbody tr th {\n        vertical-align: top;\n    }\n\n    .dataframe thead th {\n        text-align: right;\n    }\n</style>\n<table border=\"1\" class=\"dataframe\">\n  <thead>\n    <tr style=\"text-align: right;\">\n      <th></th>\n      <th>order_id</th>\n      <th>customer_id</th>\n      <th>order_status</th>\n      <th>order_purchase_timestamp</th>\n      <th>order_approved_at</th>\n      <th>order_delivered_carrier_date</th>\n      <th>order_delivered_customer_date</th>\n      <th>order_estimated_delivery_date</th>\n    </tr>\n  </thead>\n  <tbody>\n  </tbody>\n</table>\n</div>"
     },
     "execution_count": 9,
     "metadata": {},
     "output_type": "execute_result"
    }
   ],
   "source": [
    "df_orders.loc[df_orders.duplicated(subset=['customer_id'])]"
   ],
   "metadata": {
    "collapsed": false,
    "pycharm": {
     "name": "#%%\n"
    }
   }
  },
  {
   "cell_type": "code",
   "execution_count": 10,
   "outputs": [],
   "source": [
    "df = pd.merge(df, df_product, on='product_id')\n",
    "df.to_csv('../data/merged_order.csv')"
   ],
   "metadata": {
    "collapsed": false,
    "pycharm": {
     "name": "#%%\n"
    }
   }
  },
  {
   "cell_type": "code",
   "execution_count": 15,
   "outputs": [
    {
     "data": {
      "text/plain": "array(['utilidades_domesticas', 'perfumaria', 'automotivo', 'pet_shop',\n       'papelaria', nan, 'moveis_decoracao', 'moveis_escritorio',\n       'ferramentas_jardim', 'informatica_acessorios', 'cama_mesa_banho',\n       'brinquedos', 'construcao_ferramentas_construcao', 'telefonia',\n       'beleza_saude', 'eletronicos', 'bebes', 'cool_stuff',\n       'relogios_presentes', 'climatizacao', 'esporte_lazer',\n       'livros_interesse_geral', 'eletroportateis', 'alimentos',\n       'malas_acessorios', 'fashion_underwear_e_moda_praia',\n       'artigos_de_natal', 'fashion_bolsas_e_acessorios',\n       'instrumentos_musicais', 'construcao_ferramentas_iluminacao',\n       'livros_tecnicos', 'construcao_ferramentas_jardim',\n       'eletrodomesticos', 'market_place', 'agro_industria_e_comercio',\n       'artigos_de_festas', 'casa_conforto', 'cds_dvds_musicais',\n       'industria_comercio_e_negocios', 'consoles_games', 'moveis_quarto',\n       'construcao_ferramentas_seguranca', 'telefonia_fixa', 'bebidas',\n       'moveis_cozinha_area_de_servico_jantar_e_jardim',\n       'fashion_calcados', 'casa_construcao', 'audio',\n       'eletrodomesticos_2', 'fashion_roupa_masculina', 'cine_foto',\n       'moveis_sala', 'artes', 'alimentos_bebidas',\n       'tablets_impressao_imagem', 'fashion_esporte',\n       'portateis_cozinha_e_preparadores_de_alimentos', 'la_cuisine',\n       'flores', 'pcs', 'casa_conforto_2', 'portateis_casa_forno_e_cafe',\n       'dvds_blu_ray', 'pc_gamer', 'construcao_ferramentas_ferramentas',\n       'fashion_roupa_feminina', 'moveis_colchao_e_estofado',\n       'sinalizacao_e_seguranca', 'fraldas_higiene', 'livros_importados',\n       'fashion_roupa_infanto_juvenil', 'musica', 'artes_e_artesanato',\n       'seguros_e_servicos'], dtype=object)"
     },
     "execution_count": 15,
     "metadata": {},
     "output_type": "execute_result"
    }
   ],
   "source": [
    "df['product_category_name'].unique()"
   ],
   "metadata": {
    "collapsed": false,
    "pycharm": {
     "name": "#%%\n"
    }
   }
  },
  {
   "cell_type": "code",
   "execution_count": 14,
   "outputs": [
    {
     "data": {
      "text/plain": "99441"
     },
     "execution_count": 14,
     "metadata": {},
     "output_type": "execute_result"
    }
   ],
   "source": [
    "len(df_orders['customer_id'].unique())"
   ],
   "metadata": {
    "collapsed": false,
    "pycharm": {
     "name": "#%%\n"
    }
   }
  }
 ],
 "metadata": {
  "kernelspec": {
   "display_name": "Python 3",
   "language": "python",
   "name": "python3"
  },
  "language_info": {
   "codemirror_mode": {
    "name": "ipython",
    "version": 2
   },
   "file_extension": ".py",
   "mimetype": "text/x-python",
   "name": "python",
   "nbconvert_exporter": "python",
   "pygments_lexer": "ipython2",
   "version": "2.7.6"
  },
  "pycharm": {
   "stem_cell": {
    "cell_type": "raw",
    "source": [
     "#\n",
     "\n",
     "À Privilégier\n",
     "- stock disponible\n",
     "- plus chere\n",
     "- cout adapter au pouvoir d'achat\n",
     "- entrepots proches\n"
    ],
    "metadata": {
     "collapsed": false
    }
   }
  }
 },
 "nbformat": 4,
 "nbformat_minor": 0
}