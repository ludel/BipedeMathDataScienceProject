{
 "cells": [
  {
   "cell_type": "code",
   "execution_count": 1,
   "outputs": [
    {
     "name": "stderr",
     "output_type": "stream",
     "text": [
      "Matplotlib created a temporary config/cache directory at /tmp/matplotlib-e5ljxu7z because the default path (/.config/matplotlib) is not a writable directory; it is highly recommended to set the MPLCONFIGDIR environment variable to a writable directory, in particular to speed up the import of Matplotlib and to better support multiprocessing.\n"
     ]
    }
   ],
   "source": [
    "from typing import Dict\n",
    "\n",
    "import pandas as pd\n",
    "import seaborn as sns\n",
    "import numpy as np"
   ],
   "metadata": {
    "collapsed": false,
    "pycharm": {
     "name": "#%%\n"
    }
   }
  },
  {
   "cell_type": "code",
   "execution_count": 3,
   "outputs": [],
   "source": [
    "df_reviews = pd.read_csv(\"../data/olist_order_reviews_dataset.csv\")\n",
    "df_orders = pd.read_csv(\"../data/olist_orders_dataset.csv\")\n",
    "df_order_items = pd.read_csv(\"../data/olist_order_items_dataset.csv\")"
   ],
   "metadata": {
    "collapsed": false,
    "pycharm": {
     "name": "#%%\n"
    }
   }
  },
  {
   "cell_type": "code",
   "execution_count": 4,
   "outputs": [],
   "source": [
    "df_orders_reviews = pd.merge(df_orders, df_reviews, on='order_id')\n",
    "df_orders_reviews_order_items = pd.merge(\n",
    "    df_orders_reviews,\n",
    "    df_order_items, on='order_id',\n",
    ")"
   ],
   "metadata": {
    "collapsed": false,
    "pycharm": {
     "name": "#%%\n"
    }
   }
  },
  {
   "cell_type": "code",
   "execution_count": 5,
   "outputs": [],
   "source": [
    "df = df_orders_reviews_order_items[['order_id', 'review_id', 'review_score', 'product_id']]"
   ],
   "metadata": {
    "collapsed": false,
    "pycharm": {
     "name": "#%%\n"
    }
   }
  },
  {
   "cell_type": "code",
   "execution_count": 6,
   "outputs": [],
   "source": [
    "score_by_product_id: Dict[str, Dict[str, float]] = {}\n",
    "for (order_id, review_id, review_score), order_rows in df.groupby(['order_id', 'review_id', 'review_score']):\n",
    "    for product_id in {row[3] for row in order_rows.values}:\n",
    "        if product_id not in score_by_product_id:\n",
    "            score_by_product_id[product_id] = {'coef': 0, 'score': 0}\n",
    "        coef = np.count_nonzero(order_rows.values[:, 3] == product_id) / order_rows.shape[0]\n",
    "        score_by_product_id[product_id]['coef'] += coef\n",
    "        score_by_product_id[product_id]['score'] += coef * review_score"
   ],
   "metadata": {
    "collapsed": false,
    "pycharm": {
     "name": "#%%\n"
    }
   }
  },
  {
   "cell_type": "code",
   "execution_count": 7,
   "outputs": [],
   "source": [
    "product_ids = []\n",
    "product_scores = []\n",
    "for product_id, score_data in score_by_product_id.items():\n",
    "    score = score_data['score'] / score_data['coef']\n",
    "    score_by_product_id[product_id]['score_final'] = score\n",
    "    product_ids.append(product_id)\n",
    "    product_scores.append(score)"
   ],
   "metadata": {
    "collapsed": false,
    "pycharm": {
     "name": "#%%\n"
    }
   }
  },
  {
   "cell_type": "code",
   "execution_count": 9,
   "outputs": [],
   "source": [
    "scores = pd.DataFrame({'product_id': product_ids, 'scores': product_scores})\n",
    "scores.to_csv('../data/olist_product_scores.csv', index=False)"
   ],
   "metadata": {
    "collapsed": false,
    "pycharm": {
     "name": "#%%\n"
    }
   }
  },
  {
   "cell_type": "code",
   "execution_count": 10,
   "outputs": [
    {
     "data": {
      "text/plain": "<AxesSubplot:xlabel='Count', ylabel='scores'>"
     },
     "execution_count": 10,
     "metadata": {},
     "output_type": "execute_result"
    },
    {
     "data": {
      "text/plain": "<Figure size 432x288 with 1 Axes>",
      "image/png": "[encoded data removed]"
     },
     "metadata": {
      "needs_background": "light"
     },
     "output_type": "display_data"
    }
   ],
   "source": [
    "sns.histplot(data=scores, y='scores', bins=5)#.get_figure().savefig('data/oslint_product_scores_histplot')"
   ],
   "metadata": {
    "collapsed": false,
    "pycharm": {
     "name": "#%%\n"
    }
   }
  },
  {
   "cell_type": "code",
   "execution_count": null,
   "outputs": [],
   "source": [],
   "metadata": {
    "collapsed": false,
    "pycharm": {
     "name": "#%%\n"
    }
   }
  }
 ],
 "metadata": {
  "kernelspec": {
   "display_name": "Python 3",
   "language": "python",
   "name": "python3"
  },
  "language_info": {
   "codemirror_mode": {
    "name": "ipython",
    "version": 2
   },
   "file_extension": ".py",
   "mimetype": "text/x-python",
   "name": "python",
   "nbconvert_exporter": "python",
   "pygments_lexer": "ipython2",
   "version": "2.7.6"
  }
 },
 "nbformat": 4,
 "nbformat_minor": 0
}