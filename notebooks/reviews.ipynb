{
 "cells": [
  {
   "cell_type": "code",
   "execution_count": 1,
   "outputs": [
    {
     "name": "stderr",
     "output_type": "stream",
     "text": [
      "Matplotlib created a temporary config/cache directory at /tmp/matplotlib-kbgfibr9 because the default path (/.config/matplotlib) is not a writable directory; it is highly recommended to set the MPLCONFIGDIR environment variable to a writable directory, in particular to speed up the import of Matplotlib and to better support multiprocessing.\n"
     ]
    }
   ],
   "source": [
    "from typing import Dict, Union, List\n",
    "\n",
    "import pandas as pd\n",
    "import seaborn as sns\n",
    "import numpy as np"
   ],
   "metadata": {
    "collapsed": false,
    "pycharm": {
     "name": "#%%\n"
    }
   }
  },
  {
   "cell_type": "code",
   "execution_count": 2,
   "outputs": [],
   "source": [
    "df_reviews = pd.read_csv(\"../data/olist_order_reviews_dataset.csv\")\n",
    "df_orders = pd.read_csv(\"../data/olist_orders_dataset.csv\")\n",
    "df_order_items = pd.read_csv(\"../data/olist_order_items_dataset.csv\")"
   ],
   "metadata": {
    "collapsed": false,
    "pycharm": {
     "name": "#%%\n"
    }
   }
  },
  {
   "cell_type": "code",
   "execution_count": 3,
   "outputs": [],
   "source": [
    "df_orders_reviews = pd.merge(df_orders, df_reviews, on='order_id')\n",
    "df_orders_reviews_order_items = pd.merge(\n",
    "    df_orders_reviews,\n",
    "    df_order_items, on='order_id',\n",
    ")"
   ],
   "metadata": {
    "collapsed": false,
    "pycharm": {
     "name": "#%%\n"
    }
   }
  },
  {
   "cell_type": "code",
   "execution_count": 12,
   "outputs": [],
   "source": [
    "df = df_orders_reviews_order_items[['order_id', 'review_id', 'review_score', 'product_id']]\n",
    "grouped_by_order = df.groupby(['order_id', 'review_id', 'review_score'])"
   ],
   "metadata": {
    "collapsed": false,
    "pycharm": {
     "name": "#%%\n"
    }
   }
  },
  {
   "cell_type": "code",
   "execution_count": 13,
   "outputs": [],
   "source": [
    "score_by_product_id: Dict[str, Dict[str, Union[float, List[float]]]] = {}\n",
    "for (order_id, review_id, review_score), order_rows in grouped_by_order:\n",
    "    for product_id in {row[3] for row in order_rows.values}:\n",
    "        if product_id not in score_by_product_id:\n",
    "            score_by_product_id[product_id] = {\n",
    "              'coef': 0,\n",
    "              'score': 0,\n",
    "              'coefs': [],\n",
    "              'scores': [],\n",
    "              'orders': [],\n",
    "            }\n",
    "        coef = np.count_nonzero(order_rows.values[:, 3] == product_id) / order_rows.shape[0]\n",
    "        score_by_product_id[product_id]['coef'] += coef\n",
    "        score_by_product_id[product_id]['score'] += coef * review_score\n",
    "        # The following lines of codes add information used only for helping the user understand the finale score\n",
    "        score_by_product_id[product_id]['coefs'].append(coef)\n",
    "        score_by_product_id[product_id]['scores'].append(review_score)\n",
    "        score_by_product_id[product_id]['orders'].append(order_id)"
   ],
   "metadata": {
    "collapsed": false,
    "pycharm": {
     "name": "#%%\n"
    }
   }
  },
  {
   "cell_type": "code",
   "execution_count": 14,
   "outputs": [],
   "source": [
    "product_ids = []\n",
    "product_scores = []\n",
    "for product_id, score_data in score_by_product_id.items():\n",
    "    score = score_data['score'] / score_data['coef']\n",
    "    score_by_product_id[product_id]['score_final'] = score\n",
    "    product_ids.append(product_id)\n",
    "    product_scores.append(score)"
   ],
   "metadata": {
    "collapsed": false,
    "pycharm": {
     "name": "#%%\n"
    }
   }
  },
  {
   "cell_type": "code",
   "execution_count": 15,
   "outputs": [],
   "source": [
    "scores = pd.DataFrame({'product_id': product_ids, 'score': product_scores})\n",
    "scores.to_csv('../data/olist_product_scores.csv', index=False)"
   ],
   "metadata": {
    "collapsed": false,
    "pycharm": {
     "name": "#%%\n"
    }
   }
  },
  {
   "cell_type": "code",
   "execution_count": 16,
   "outputs": [
    {
     "data": {
      "text/plain": "<AxesSubplot:xlabel='Count', ylabel='score'>"
     },
     "execution_count": 16,
     "metadata": {},
     "output_type": "execute_result"
    },
    {
     "data": {
      "text/plain": "<Figure size 432x288 with 1 Axes>",
      "image/png": "[encoded data removed]"
     },
     "metadata": {
      "needs_background": "light"
     },
     "output_type": "display_data"
    }
   ],
   "source": [
    "sns.histplot(data=scores, y='score', bins=5)#.get_figure().savefig('data/oslint_product_scores_histplot')"
   ],
   "metadata": {
    "collapsed": false,
    "pycharm": {
     "name": "#%%\n"
    }
   }
  },
  {
   "cell_type": "code",
   "execution_count": 17,
   "outputs": [],
   "source": [
    "bad_products = scores[scores['score'] < 2]\n",
    "bad_products = bad_products[bad_products['score'] > 1]\n",
    "bad_products"
   ],
   "metadata": {
    "collapsed": false,
    "pycharm": {
     "name": "#%%\n"
    }
   }
  },
  {
   "cell_type": "code",
   "execution_count": 23,
   "outputs": [
    {
     "data": {
      "text/plain": "{'coef': 2.1,\n 'score': 2.3,\n 'coefs': [0.1, 1.0, 1.0],\n 'scores': [3, 1, 1],\n 'orders': ['ca3625898fbd48669d50701aba51cd5f',\n  'cd002226356c8056b3e5d2ab6098543f',\n  'e8373fd2805212d0bc74790901dc446c'],\n 'score_final': 1.0952380952380951}"
     },
     "execution_count": 23,
     "metadata": {},
     "output_type": "execute_result"
    }
   ],
   "source": [
    "example_data = score_by_product_id['1065e0ebef073787a7bf691924c60eeb']\n",
    "example_data"
   ],
   "metadata": {
    "collapsed": false,
    "pycharm": {
     "name": "#%%\n"
    }
   }
  },
  {
   "cell_type": "code",
   "execution_count": 40,
   "outputs": [],
   "source": [
    "df_orders_reviews = pd.merge(df_orders, df_orders_reviews[df_orders_reviews['order_id'].isin(example_data['orders'])], on='order_id')\n",
    "df_orders_reviews_order_items = pd.merge(\n",
    "    df_orders_reviews,\n",
    "    df_order_items, on='order_id',\n",
    ")[['order_id', 'review_id', 'review_score', 'review_comment_title', 'product_id']]\n",
    "grouped_by_order = df_orders_reviews_order_items.groupby(['order_id'])"
   ],
   "metadata": {
    "collapsed": false,
    "pycharm": {
     "name": "#%%\n"
    }
   }
  },
  {
   "cell_type": "code",
   "execution_count": 42,
   "outputs": [
    {
     "name": "stdout",
     "output_type": "stream",
     "text": [
      "    review_score review_comment_title                        product_id\n",
      "1              3                  NaN  1065e0ebef073787a7bf691924c60eeb\n",
      "2              3                  NaN  0cf2faf9749f53924cea652a09d8e327\n",
      "3              3                  NaN  0de59eddc63167215c972b0d785ffa7b\n",
      "4              3                  NaN  0de59eddc63167215c972b0d785ffa7b\n",
      "5              3                  NaN  5dae498eff2d80057f56122235a36aff\n",
      "6              3                  NaN  4a5c3967bfd3629fe07ef4d0cc8c3818\n",
      "7              3                  NaN  678c229b41c0e497d35a25a8be1cc631\n",
      "8              3                  NaN  21b524c4c060169fa75ccf08c7da4627\n",
      "9              3                  NaN  309dd69eb83cea38c51709d62befe1a4\n",
      "10             3                  NaN  309dd69eb83cea38c51709d62befe1a4\n",
      "    review_score       review_comment_title                        product_id\n",
      "11             1  PRODUTO NÃO CHEGA NO PRAZ  1065e0ebef073787a7bf691924c60eeb\n",
      "   review_score review_comment_title                        product_id\n",
      "0             1                  NaN  1065e0ebef073787a7bf691924c60eeb\n"
     ]
    }
   ],
   "source": [
    "for order_id in example_data['orders']:\n",
    "  print(grouped_by_order.get_group(order_id)[['review_score', 'review_comment_title', 'product_id']])"
   ],
   "metadata": {
    "collapsed": false,
    "pycharm": {
     "name": "#%%\n"
    }
   }
  },
  {
   "cell_type": "code",
   "execution_count": 46,
   "outputs": [
    {
     "data": {
      "text/plain": "{'coef': 1.1,\n 'score': 4.3,\n 'coefs': [1.0, 0.1],\n 'scores': [4, 3],\n 'orders': ['77197d80101ec8ad66a1e174eea411e4',\n  'ca3625898fbd48669d50701aba51cd5f'],\n 'score_final': 3.9090909090909087}"
     },
     "execution_count": 46,
     "metadata": {},
     "output_type": "execute_result"
    }
   ],
   "source": [
    "score_by_product_id['21b524c4c060169fa75ccf08c7da4627']"
   ],
   "metadata": {
    "collapsed": false,
    "pycharm": {
     "name": "#%%\n"
    }
   }
  },
  {
   "cell_type": "code",
   "execution_count": null,
   "outputs": [],
   "source": [],
   "metadata": {
    "collapsed": false,
    "pycharm": {
     "name": "#%%\n"
    }
   }
  }
 ],
 "metadata": {
  "kernelspec": {
   "display_name": "Python 3",
   "language": "python",
   "name": "python3"
  },
  "language_info": {
   "codemirror_mode": {
    "name": "ipython",
    "version": 2
   },
   "file_extension": ".py",
   "mimetype": "text/x-python",
   "name": "python",
   "nbconvert_exporter": "python",
   "pygments_lexer": "ipython2",
   "version": "2.7.6"
  }
 },
 "nbformat": 4,
 "nbformat_minor": 0
}